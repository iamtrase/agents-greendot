{
 "cells": [
  {
   "cell_type": "markdown",
   "id": "5f628ce9",
   "metadata": {},
   "source": [
    "# Creating Agents"
   ]
  },
  {
   "cell_type": "markdown",
   "id": "8d65c6fe",
   "metadata": {},
   "source": [
    "Goal for our Agent: xxxxxxxxxxxxx"
   ]
  },
  {
   "cell_type": "code",
   "execution_count": null,
   "id": "8d0e23c0",
   "metadata": {},
   "outputs": [],
   "source": []
  }
 ],
 "metadata": {
  "kernelspec": {
   "display_name": "Python 3 (ipykernel)",
   "language": "python",
   "name": "python3"
  },
  "language_info": {
   "codemirror_mode": {
    "name": "ipython",
    "version": 3
   },
   "file_extension": ".py",
   "mimetype": "text/x-python",
   "name": "python",
   "nbconvert_exporter": "python",
   "pygments_lexer": "ipython3",
   "version": "3.9.13"
  }
 },
 "nbformat": 4,
 "nbformat_minor": 5
}
